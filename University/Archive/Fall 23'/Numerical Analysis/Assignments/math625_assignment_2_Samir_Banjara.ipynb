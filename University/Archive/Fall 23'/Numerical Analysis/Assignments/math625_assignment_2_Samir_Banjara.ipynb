{
 "cells": [
  {
   "cell_type": "code",
   "execution_count": 1,
   "metadata": {},
   "outputs": [],
   "source": [
    "def false_position(f, a, b, TOL=1e-6, max_iter=1000):\n",
    "    if f(a) * f(b) > 0:\n",
    "        raise ValueError(\"The function must have different signs at a and b.\")\n",
    "    for i in range(max_iter):\n",
    "        c = (a * f(b) - b * f(a)) / (f(b) - f(a))\n",
    "        if f(c) == 0 or abs(f(c)) < TOL:\n",
    "            break\n",
    "        if f(a) * f(c) < 0:\n",
    "            b = c\n",
    "        else:\n",
    "            a = c\n",
    "    return c    "
   ]
  },
  {
   "cell_type": "code",
   "execution_count": 2,
   "metadata": {},
   "outputs": [
    {
     "name": "stdout",
     "output_type": "stream",
     "text": [
      "Root: -0.040659284770926674\n",
      "f(-0.040659284770926674) = -7.859050175085258e-07\n",
      "Root2: 0.962398418572024\n",
      "f(0.962398418572024) = -1.1896614182660414e-07\n"
     ]
    }
   ],
   "source": [
    "# Example usage with the given function and interval:\n",
    "# Define the function : f(x) = 230x^4 + 18x^3 + 9x^2 - 221x - 9\n",
    "def f(x):\n",
    "    return 230*x**4 + 18*x**3 + 9*x**2 - 221*x - 9\n",
    "    # Find the root in the interval [-1, 0]\n",
    "root = false_position(f, -1, 0)\n",
    "\n",
    " # Find the root in the interval [1, 0]\n",
    "root2 = false_position(f, 0, 1)\n",
    "\n",
    "# Print the results \n",
    "print(f\"Root: {root}\")\n",
    "print(f\"f({root}) = {f(root)}\")\n",
    "print(f\"Root2: {root2}\")\n",
    "print(f\"f({root2}) = {f(root2)}\")"
   ]
  },
  {
   "cell_type": "markdown",
   "metadata": {},
   "source": [
    "## Lets try Newton's Method now"
   ]
  },
  {
   "cell_type": "code",
   "execution_count": 3,
   "metadata": {},
   "outputs": [],
   "source": [
    "def newton_method(p0, e, max_it, f, f_prime):\n",
    "    for _ in range(max_it):\n",
    "        p1 = p0 - f(p0) / f_prime(p0)\n",
    "        if abs(p1 - p0) < e:\n",
    "            return p1\n",
    "        p0 = p1\n",
    "    else:\n",
    "        print('Warning. Max Iter Reached!')\n",
    "        return p0\n"
   ]
  },
  {
   "cell_type": "code",
   "execution_count": 4,
   "metadata": {},
   "outputs": [
    {
     "name": "stdout",
     "output_type": "stream",
     "text": [
      "Roots: [-0.04065928831575899, -0.040659288315758865]\n"
     ]
    }
   ],
   "source": [
    "def f(x):\n",
    "    return 230*x**4 + 18*x**3 + 9*x**2 - 221*x - 9\n",
    "\n",
    "def f_prime(x):\n",
    "    return 920*x**3 + 54*x**2 + 18*x - 221\n",
    "\n",
    "# Intervals\n",
    "intervals = [(-1, 0), (0, 1)]\n",
    "e = 1e-6\n",
    "max_it = 50\n",
    "\n",
    "roots = []\n",
    "\n",
    "for a, b in intervals:\n",
    "    p0 = (a + b) / 2  # Mid-point\n",
    "    root = newton_method(p0, e, max_it, f, f_prime)\n",
    "    roots.append(root)\n",
    "\n",
    "print(\"Roots:\", roots)\n"
   ]
  },
  {
   "cell_type": "markdown",
   "metadata": {},
   "source": [
    "Lets try to experiment with Complex Numbers.\n",
    "\n",
    "There is an issue with the use of absolute value of Real Numbers \n",
    "$\\mathbb{R}$. \n",
    "We need to use the modulus of complex numbers defined as follows, \n",
    "Let $z$ be a complex number represented in the standard form as  $z = a+bi$\n",
    "Where $a$ and $b$ are $\\mathbb{R}$ real numbers, and $i$ is the imaginary unit such that $i^2 = -1$\n",
    "\n",
    "The modulus (or magnitude) of $z$,\n",
    "is the negative square root of the sum of squares of its real and imaginary parts, denoted, $|z| = \\sqrt{a^2+b^2}$\n",
    "\n",
    "With the following properties:\n",
    "1. $|z| \\geq 0$ for all complex numbers $z$, and $|z| = 0$ if and only if $z = 0$.\n",
    "2. $|z_1z_2| = |z_1| \\, |z_2|$ for all complex number $z_1$ and $z_2$.\n",
    "3. $|\\hat{z}| = |z|$, where $\\hat{z}$ is the complex conjugate of $z$.\n",
    "4. $|z_1+z_2| \\leq |z_1|+|z_2|$ (Triangle Inequality) for all complex numbers $z_1$ and $z_2$\n",
    "\n",
    "And the argument is defined as follows: \n",
    "\n",
    "The argument of $z$, denoted by $\\mathrm{arg}(z)$ or $\\theta$, is the angle (in radians) that the line segment joining the origin and the point representing $z$ in the complex plane makes with the positive real axis. The angle is measured in the counter clockwise direction.\n",
    "\n",
    "The *principal value* of the argument is given by:\n",
    "$\\mathrm{arg}(z) = \\arctan(\\cfrac{b}{a})$\n",
    "\n",
    "The quadrant in which $z$ lies must be taken into account to determine the correct angle\n",
    "\n",
    "1. if $a > 0$ and $b \\geq 0$ then, $\\mathrm{arg}(z) = \\arctan(\\cfrac{b}{a})$\n",
    "\n",
    "2. if $a<0$,then $\\mathrm{arg}(z) = \\arctan\\left(\\cfrac{b}{a}\\right) + \\pi$\n",
    "3. if $a < 0$\n",
    "\n",
    "4. if $a = 0$ and $b\\neq 0$ then $\\mathrm{arg}(z) = \\frac{\\pi}{2}$ for $b >0$ and $\\mathrm{arg}(z)=-\\frac{\\pi}{2}$ for $b < 0$        \n",
    "\n",
    "\n",
    "We need to modify the code, to reflect the solutions shown below.1. Replace all the absolute value computations with the modulus computations for complex numbers. we can still use `abs()`\n",
    "\n",
    "2. Instead of checking if `f(a) * f(b) > 0` we can check if the argument of the two complex number is different by more than the  `TOL`. This ensure they lie in different half-planes.\n",
    "   \n"
   ]
  },
  {
   "cell_type": "code",
   "execution_count": 5,
   "metadata": {},
   "outputs": [],
   "source": [
    "def false_position_complex(f, a, b, TOL=1e-6, max_iter=1000):\n",
    "    # Check if f(a) and f(b) lie in different half-planes\n",
    "    if (f(a) * f(b).conjugate()).real >= 0:\n",
    "        raise ValueError(\"The function must have different signs at a and b.\")\n",
    "    \n",
    "    for i in range(max_iter):\n",
    "        c = (a * f(b) - b * f(a)) / (f(b) - f(a))\n",
    "\n",
    "        if f(c) == 0 or abs(f(c)) < TOL:\n",
    "            break \n",
    "\n",
    "        # Check if f(a) and f(c) lie in different half-planes\n",
    "        if (f(a) * f(c).conjugate()).real < 0:\n",
    "            b = c\n",
    "        else:\n",
    "            a = c\n",
    "            \n",
    "    return c"
   ]
  },
  {
   "cell_type": "code",
   "execution_count": 6,
   "metadata": {},
   "outputs": [
    {
     "name": "stdout",
     "output_type": "stream",
     "text": [
      "f((-4.3586274104249747e-07+0.9999998595050125j)) = (2.8099014526272725e-07-8.717253596119342e-07j)\n"
     ]
    }
   ],
   "source": [
    "# Example usage with a complex function and interval:\n",
    "# Define the function: f(z) = z^2 + 1\n",
    "def f(z):\n",
    "    return z**2 + 1\n",
    "\n",
    "# Find the root of the function in the interval [1-1j, 1+1j]\n",
    "root = false_position_complex(f, 1-1j, 1+1j)\n",
    "\n",
    "# Print the results\n",
    "# print(f\"Root: {root}\")\n",
    "print(f\"f({root}) = {f(root)}\")\n"
   ]
  },
  {
   "cell_type": "markdown",
   "metadata": {},
   "source": [
    "## Question 2\n",
    "\n",
    "Let $f(x) \\in C \\, [a,b]$ and let $p \\in  [a,b]$\n",
    "\n",
    "1. Suppose that $f(p)\\neq 0$\n",
    "\tshow that there is a $\\delta > 0$ with $f(x) \\neq 0$ \n",
    "\t\tfor all $x \\in[p-\\delta, p + \\delta]$ \n",
    "\n",
    "2. Suppose that $f(p) = 0$ and $k>0$ is given,\n",
    "\tShow that there is a $\\delta>0$ with $f(x)\\leq k$\n",
    "\t\tfor all $x \\in[p-\\delta, p + \\delta]$ \n",
    "\n",
    "***\n",
    "#### Solution:\n",
    "\n",
    "1. \n",
    "Given that $f(x)$ is continuous on $[a, b]$ and $f(p) \\neq 0$, by the property of continuity functions, $f(x)$ is continuous at $x = p$. This means that for any $\\epsilon >0$, there exists a $\\delta > 0$ such that if $0<\\left|\\, x - p \\,\\right| < \\delta$ then $\\left|\\, f(x) - f(p) \\,\\right| < \\epsilon$ \n",
    "\n",
    "Now choosing $\\epsilon = \\cfrac{\\left|\\, f(p) \\,\\right|}{2}$ \n",
    "\tThis ensure that $f(x)$ does not change sign in the interval $(p-\\delta, p + \\delta)$, because the difference between $f(x)$ and $f(p)$ is less than half the magnitude of $f(p)$.\n",
    "\n",
    "Given $\\left|\\, f(x) - f(p) \\,\\right| < \\cfrac{\\left|\\, f(p) \\,\\right|}{2}$\n",
    "this implies, $\\left|\\, f(x) \\,\\right|> \\cfrac{\\left|\\, f(p) \\,\\right|}{2}$ \n",
    "since, $\\cfrac{\\left|\\, f(p) \\,\\right|}{2} > 0$\n",
    "\tThus, it follows that there exists a $\\delta >0$ such that $f(x)\\neq 0$ for all $x \\in[p-\\delta, p+\\delta]$\n",
    "***\n",
    "2.\n",
    "Given that $f(x)$ is continuous on $[a, b]$ and $f(p) = 0$, by the property of continuity functions, $f(x)$ is continuous at $x = p$. This means that for any $\\epsilon >0$, there exists a $\\delta > 0$ such that if $0<\\left|\\, x - p \\,\\right| < \\delta$ then $\\left|\\, f(x) - f(p) \\,\\right| < \\epsilon$ \n",
    "\n",
    "Choose $\\epsilon = k$\n",
    "\tEnsure that the difference between $f(x)$ and $f(p)$ is less than $k$\n",
    "Given $\\left|\\, f(x) - f(p) \\,\\right|< k$ and $f(p) = 0$,\n",
    "the inequality becomes\n",
    "\t$|f(x)| < k$, which implies $f(x) \\leq k$\n",
    "Thus, there exists a $\\delta > 0$ such that $f(x)\\leq k$ for all $x \\in[p-\\delta, p+\\delta]$\n",
    "***"
   ]
  }
 ],
 "metadata": {
  "kernelspec": {
   "display_name": "Python 3",
   "language": "python",
   "name": "python3"
  },
  "language_info": {
   "codemirror_mode": {
    "name": "ipython",
    "version": 3
   },
   "file_extension": ".py",
   "mimetype": "text/x-python",
   "name": "python",
   "nbconvert_exporter": "python",
   "pygments_lexer": "ipython3",
   "version": "3.11.4"
  },
  "orig_nbformat": 4
 },
 "nbformat": 4,
 "nbformat_minor": 2
}
