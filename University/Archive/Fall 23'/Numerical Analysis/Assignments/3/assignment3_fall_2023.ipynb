{
 "cells": [
  {
   "cell_type": "markdown",
   "id": "6e6120fe-98f6-44f7-aadf-44b51c702ff3",
   "metadata": {},
   "source": [
    "**Assignment 3: MATH 425/625 Numerical Analysis**\n",
    "\n",
    "**Your Name**"
   ]
  },
  {
   "cell_type": "code",
   "execution_count": null,
   "id": "538cb122",
   "metadata": {
    "vscode": {
     "languageId": "plaintext"
    }
   },
   "outputs": [],
   "source": []
  },
  {
   "cell_type": "markdown",
   "id": "999998c1-5ba1-4397-aef1-f40948745e64",
   "metadata": {},
   "source": [
    "**Question 1**: Fitting natural cubic splines $S_j(x) = a_j + b_j(x - x_j) + c_j(x - x_j)^2 + d_j(x-x_j)^3$.\n",
    "\n",
    "1. Simulate data from $y = cos(x)$ for $x$ in the interval $[-\\pi/2, \\pi/2]$. Use equally spaced $x$ values.\n",
    "1. Set up the tri-diagonal coefficient matrix $A$ for natural cubic splines. \n",
    "1. Set up the $y$ vector and solve the system $Ac = y$ to obtain the $c$'s. Use scipy linalg to solve the system.\n",
    "1. Solve for the other coefficients: $a$'s, $b$'s, and $d$'s.\n",
    "1. Compare the fitted coefficients with values from the scipy builtin cubic splines function for the first three splines.\n",
    "1. Plot the $cos(x)$ curve and the interpolate the values using a finner grid and your own spline code."
   ]
  }
 ],
 "metadata": {
  "kernelspec": {
   "display_name": "Python 3 (ipykernel)",
   "language": "python",
   "name": "python3"
  },
  "language_info": {
   "codemirror_mode": {
    "name": "ipython",
    "version": 3
   },
   "file_extension": ".py",
   "mimetype": "text/x-python",
   "name": "python",
   "nbconvert_exporter": "python",
   "pygments_lexer": "ipython3",
   "version": "3.9.5"
  }
 },
 "nbformat": 4,
 "nbformat_minor": 5
}
