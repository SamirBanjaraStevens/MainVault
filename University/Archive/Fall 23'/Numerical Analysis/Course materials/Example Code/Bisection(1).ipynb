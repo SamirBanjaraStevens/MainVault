{
 "cells": [
  {
   "cell_type": "markdown",
   "metadata": {},
   "source": [
    "## Bisection\n",
    "This is an implemntation of the bisection method $p = \\dfrac{(a+b)}{2}$\n",
    "\n",
    "## Finding the root\n",
    "Let $f(x) = x^3 + 4 x^2 - 10$. This function has a root in $[1,2]$."
   ]
  },
  {
   "cell_type": "code",
   "execution_count": 2,
   "metadata": {},
   "outputs": [
    {
     "name": "stdout",
     "output_type": "stream",
     "text": [
      "1.365230013616383\n",
      "3.340433707421653e-09\n"
     ]
    }
   ],
   "source": [
    "def bisection(a, b, tol, max_it):\n",
    "    i = 1\n",
    "    fa = f(a)\n",
    "    while i <= max_it: ## for i in range(max_it):\n",
    "        p = (a + b) / 2.0\n",
    "        fp = f(p)\n",
    "        if fp == 0 or (b - a)/2.0 < tol:\n",
    "            p_out = p\n",
    "            return(p)\n",
    "        i += 1 ## comment this if using for loop\n",
    "        if fa * fp > 0:\n",
    "            a = p\n",
    "            fa = fp\n",
    "        else:\n",
    "            b = p\n",
    "    print('max num iteration exceeded')\n",
    "    return(-999)\n",
    "\n",
    "def f(x):\n",
    "    y = x ** 3 + 4 * x ** 2 - 10\n",
    "    return(y)\n",
    "\n",
    "a = 1\n",
    "b = 2\n",
    "p = bisection(a, b, 0.000000001, 100)\n",
    "print(p)\n",
    "\n",
    "print(f(p))"
   ]
  },
  {
   "cell_type": "code",
   "execution_count": 2,
   "metadata": {},
   "outputs": [
    {
     "data": {
      "text/plain": [
       "<matplotlib.collections.PathCollection at 0x7f99b0883250>"
      ]
     },
     "execution_count": 2,
     "metadata": {},
     "output_type": "execute_result"
    },
    {
     "data": {
      "image/png": "[encoded data removed]",
      "text/plain": [
       "<Figure size 432x288 with 1 Axes>"
      ]
     },
     "metadata": {
      "needs_background": "light"
     },
     "output_type": "display_data"
    }
   ],
   "source": [
    "import matplotlib.pyplot as plt\n",
    "import numpy as np\n",
    "\n",
    "x = np.linspace(a, b, 100)\n",
    "y = f(x)\n",
    "\n",
    "plt.plot(x, y, color = 'b')\n",
    "plt.hlines(0, a, b, color = 'k')\n",
    "plt.scatter(p, 0, color = 'r')"
   ]
  },
  {
   "cell_type": "code",
   "execution_count": null,
   "metadata": {},
   "outputs": [],
   "source": []
  }
 ],
 "metadata": {
  "kernelspec": {
   "display_name": "Python 3 (ipykernel)",
   "language": "python",
   "name": "python3"
  },
  "language_info": {
   "codemirror_mode": {
    "name": "ipython",
    "version": 3
   },
   "file_extension": ".py",
   "mimetype": "text/x-python",
   "name": "python",
   "nbconvert_exporter": "python",
   "pygments_lexer": "ipython3",
   "version": "3.9.5"
  }
 },
 "nbformat": 4,
 "nbformat_minor": 4
}
