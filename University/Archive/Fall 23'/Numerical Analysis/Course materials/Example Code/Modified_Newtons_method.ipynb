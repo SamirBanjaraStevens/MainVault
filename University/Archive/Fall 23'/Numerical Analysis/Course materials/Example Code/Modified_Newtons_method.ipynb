{
 "cells": [
  {
   "cell_type": "markdown",
   "metadata": {
    "tags": []
   },
   "source": [
    "## Modifying Newton's method for non-simple roots\n",
    "\n",
    "To handel roots of multiplicity $\\geq 1$, we define a functional iterations on $\\mu(x) = \\dfrac{f(x)}{f^{\\prime}(x)}$, which amounts to \n",
    "\n",
    "$$g(x) = x - \\dfrac{f(x)f^{\\prime}(x)}{[f^{\\prime}(x)]^{2} - f(x) f^{\\prime\\prime}(x)}$$\n",
    "\n",
    "Compare this to the regular Newton's functional iterations:\n",
    "\n",
    "$$g(x) = x - \\dfrac{f(x)}{f^{\\prime}(x)}$$\n",
    "\n",
    "The former will alwas result in quadratic convergence. The latter is quicker to compute as it does not require evaluation of $f^{\\prime\\prime}(x)$. The following functions are written in a general way to handel both cases."
   ]
  },
  {
   "cell_type": "code",
   "execution_count": 1,
   "metadata": {},
   "outputs": [
    {
     "name": "stdout",
     "output_type": "stream",
     "text": [
      "          p1            p2\n",
      "0   1.000000  1.000000e+00\n",
      "1   0.581977  5.151790e-01\n",
      "2   0.319055  2.531086e-01\n",
      "3   0.167996  1.087732e-01\n",
      "4   0.086349  3.672460e-02\n",
      "5   0.043796  7.690414e-03\n",
      "6   0.022058  5.923108e-04\n",
      "7   0.011069  5.669992e-06\n",
      "8   0.005545  9.531983e-10\n",
      "9   0.002775  0.000000e+00\n",
      "10  0.001388  0.000000e+00\n",
      "11  0.000694  0.000000e+00\n",
      "12  0.000347  0.000000e+00\n",
      "13  0.000174  0.000000e+00\n",
      "14  0.000087  0.000000e+00\n",
      "15  0.000043  0.000000e+00\n",
      "16  0.000022  0.000000e+00\n",
      "17  0.000011  0.000000e+00\n",
      "18  0.000005  0.000000e+00\n",
      "19  0.000000  0.000000e+00\n",
      "20  0.000000  0.000000e+00\n",
      "21  0.000000  0.000000e+00\n",
      "22  0.000000  0.000000e+00\n",
      "23  0.000000  0.000000e+00\n",
      "24  0.000000  0.000000e+00\n",
      "25  0.000000  0.000000e+00\n",
      "26  0.000000  0.000000e+00\n",
      "27  0.000000  0.000000e+00\n",
      "28  0.000000  0.000000e+00\n",
      "29  0.000000  0.000000e+00\n"
     ]
    }
   ],
   "source": [
    "import numpy as np\n",
    "import math\n",
    "import pandas as pd\n",
    "\n",
    "## Note that None is pythons Null type.\n",
    "## The best way to check if a variable is None \n",
    "## is to use is.\n",
    "def g_multiple(x, f, fp, fpp = None):\n",
    "    if fpp is not None:\n",
    "        y = x - (f(x) * fp(x)) / ((fp(x) ** 2 - f(x) ** fpp(x)))\n",
    "    else:\n",
    "        y = x - f(x) / fp(x)\n",
    "    return(y)\n",
    "\n",
    "## Test function h(x) = exp(x) - x - 1\n",
    "## This function has a double root at x = 0\n",
    "def h(x):\n",
    "    y = math.exp(x) - x - 1\n",
    "    return(y)\n",
    "\n",
    "def hp(x):\n",
    "    y = math.exp(x) - 1\n",
    "    return(y)\n",
    "\n",
    "def hpp(x):\n",
    "    y = math.exp(x)\n",
    "    return(y)\n",
    "\n",
    "def newtons_method_multiple(p0, e, max_it, g, f, fp, fpp = None):\n",
    "    p = np.zeros(max_it)\n",
    "    i = 1\n",
    "    p[0] = p0\n",
    "    while i < max_it:\n",
    "        p[i] = g(p[i-1], f, fp, fpp)\n",
    "        if abs(p[i] - p[i-1]) <= e:\n",
    "            return(p)\n",
    "        i += 1\n",
    "    return(p)\n",
    "\n",
    "\n",
    "p0 = 1\n",
    "e = 0.00001\n",
    "max_it = 30\n",
    "\n",
    "p1 = newtons_method_multiple(p0, e, max_it, g_multiple, h, hp)\n",
    "p2 = newtons_method_multiple(p0, e, max_it, g_multiple, h, hp, hpp)\n",
    "\n",
    "d = pd.DataFrame(np.column_stack((p1, p2)), columns=['p1', 'p2'])\n",
    "#d = pd.DataFrame({'iter': np.arange(1, len(p1)+1), 'p1':p1, 'p2':p2})\n",
    "print(d)\n",
    "\n",
    "## Try reducing the error rate. What happens? Can this be fixed?"
   ]
  },
  {
   "cell_type": "code",
   "execution_count": null,
   "metadata": {},
   "outputs": [],
   "source": []
  }
 ],
 "metadata": {
  "kernelspec": {
   "display_name": "Python 3 (ipykernel)",
   "language": "python",
   "name": "python3"
  },
  "language_info": {
   "codemirror_mode": {
    "name": "ipython",
    "version": 3
   },
   "file_extension": ".py",
   "mimetype": "text/x-python",
   "name": "python",
   "nbconvert_exporter": "python",
   "pygments_lexer": "ipython3",
   "version": "3.9.5"
  }
 },
 "nbformat": 4,
 "nbformat_minor": 4
}
