{
 "cells": [
  {
   "cell_type": "code",
   "execution_count": 1,
   "metadata": {},
   "outputs": [],
   "source": [
    "import numpy as np\n",
    "import random\n",
    "import time"
   ]
  },
  {
   "cell_type": "code",
   "execution_count": 17,
   "metadata": {},
   "outputs": [],
   "source": [
    "def calculate_empirical_covariance(X):\n",
    "    \"\"\"\n",
    "    Calculates the sample covariance matrix.\n",
    "    X: Data matrix (each row is an observation).\n",
    "    \"\"\"\n",
    "    mean_est = np.mean(X, axis=0)\n",
    "    cov_est = np.dot((X - mean_est).T, (X - mean_est)) / (X.shape[0])\n",
    "    return cov_est"
   ]
  },
  {
   "cell_type": "code",
   "execution_count": 18,
   "metadata": {},
   "outputs": [],
   "source": [
    "def estimate_shrinkage_intensity(X, empirical_cov):\n",
    "    \"\"\"\n",
    "    Estimates the optimal shrinkage intensity.\n",
    "    X: Data matrix (each row is an observation).\n",
    "    sample_cov: Sample covariance matrix.\n",
    "    \"\"\"\n",
    "    # Number of observations\n",
    "    n = X.shape[0]\n",
    "\n",
    "    # Shrinkage target (identity matrix scaled by the average variance)\n",
    "    variances = np.diag(empirical_cov)\n",
    "    target = np.mean(variances) * np.eye(X.shape[1])\n",
    "\n",
    "    # Estimating the shrinkage intensity\n",
    "    B = np.sum((empirical_cov - target)**2)\n",
    "    Y = X - np.mean(X, axis=0)\n",
    "    A = np.sum(np.array([np.outer(Y[i], Y[i]) for i in range(n)])**2) / n\n",
    "    shrinkage_intensity = B / A\n",
    "\n",
    "    # Ensure the intensity is between 0 and 1\n",
    "    shrinkage_intensity = max(0, min(shrinkage_intensity, 1))\n",
    "    \n",
    "    return shrinkage_intensity"
   ]
  },
  {
   "cell_type": "code",
   "execution_count": 19,
   "metadata": {},
   "outputs": [],
   "source": [
    "def shrinkage_covariance_matrix(X):\n",
    "    \"\"\"\n",
    "    Computes the covariance matrix using the basic shrinkage method.\n",
    "    X: Data matrix (each row is an observation).\n",
    "    \"\"\"\n",
    "    # Empirical covariance matrix\n",
    "    empirical_cov = calculate_empirical_covariance(X)\n",
    "\n",
    "    # Estimate shrinkage intensity\n",
    "    lambda_ = estimate_shrinkage_intensity(X, empirical_cov)\n",
    "\n",
    "    # Shrinkage target (identity matrix scaled by the average variance)\n",
    "    variances = np.diag(empirical_cov)\n",
    "    target = np.mean(variances) * np.eye(X.shape[1])\n",
    "\n",
    "    # Shrinkage covariance matrix\n",
    "    shrinkage_cov = lambda_ * target + (1 - lambda_) * empirical_cov\n",
    "    \n",
    "    return shrinkage_cov"
   ]
  },
  {
   "cell_type": "code",
   "execution_count": 20,
   "metadata": {},
   "outputs": [],
   "source": [
    "def ledoit_wolf_shrinkage(X):\n",
    "    \"\"\"\n",
    "    Computes the Ledoit-Wolf shrinkage estimator for the covariance matrix.\n",
    "    X: Data matrix (each row is an observation).\n",
    "    \"\"\"\n",
    "    # Number of observations and dimensions\n",
    "    n, p = X.shape\n",
    "\n",
    "    # Empirical covariance matrix\n",
    "    empirical_cov = np.cov(X, rowvar=False)\n",
    "\n",
    "    # Mean-variance of the empirical covariance matrix\n",
    "    mean_variance = np.mean(np.diag(empirical_cov))\n",
    "\n",
    "    # Shrinkage target: scaled identity matrix\n",
    "    shrinkage_target = mean_variance * np.eye(p)\n",
    "\n",
    "    # Compute the estimator for the optimal shrinkage intensity\n",
    "    X_centered = X - np.mean(X, axis=0)\n",
    "    term1 = np.sum([np.outer(X_centered[i], X_centered[i]) ** 2 for i in range(n)]) / n\n",
    "    term2 = np.sum((empirical_cov - shrinkage_target) ** 2)\n",
    "    shrinkage_intensity = term2 / term1\n",
    "\n",
    "    # Ensure the shrinkage intensity is between 0 and 1\n",
    "    shrinkage_intensity = max(0, min(shrinkage_intensity, 1))\n",
    "\n",
    "    # Compute the shrinkage covariance matrix\n",
    "    shrinkage_cov = shrinkage_intensity * shrinkage_target + (1 - shrinkage_intensity) * empirical_cov\n",
    "\n",
    "    return shrinkage_cov\n"
   ]
  },
  {
   "cell_type": "code",
   "execution_count": 21,
   "metadata": {},
   "outputs": [],
   "source": [
    "def oas_shrinkage_intensity(X, empirical_cov):\n",
    "    \"\"\"\n",
    "    Estimates the optimal shrinkage intensity using the OAS method.\n",
    "    X: Data matrix (each row is an observation).\n",
    "    sample_cov: Sample covariance matrix.\n",
    "    \"\"\"\n",
    "    n, p = X.shape\n",
    "\n",
    "    # Variance of the sample covariance matrix elements\n",
    "    var_cov = np.var(empirical_cov)\n",
    "\n",
    "    # Estimating the shrinkage intensity\n",
    "    shrinkage_intensity = min((var_cov / np.square(np.trace(empirical_cov) / p)), 1.0)\n",
    "\n",
    "    return shrinkage_intensity\n",
    "\n",
    "def oas_covariance_matrix(X):\n",
    "    \"\"\"\n",
    "    Computes the covariance matrix using the Oracle Approximating Shrinkage method.\n",
    "    X: Data matrix (each row is an observation).\n",
    "    \"\"\"\n",
    "    # Empirical covariance matrix\n",
    "    empirical_cov = calculate_empirical_covariance(X)\n",
    "\n",
    "    # Estimate OAS shrinkage intensity\n",
    "    lambda_ = oas_shrinkage_intensity(X, empirical_cov)\n",
    "\n",
    "    # Shrinkage target (identity matrix scaled by the average variance)\n",
    "    variances = np.diag(empirical_cov)\n",
    "    target = np.mean(variances) * np.eye(X.shape[1])\n",
    "\n",
    "    # OAS covariance matrix\n",
    "    oas_cov = lambda_ * target + (1 - lambda_) * empirical_cov\n",
    "    \n",
    "    return oas_cov\n"
   ]
  },
  {
   "cell_type": "code",
   "execution_count": 22,
   "metadata": {},
   "outputs": [],
   "source": [
    "# Test with a random matrix\n",
    "rows = random.randint(5, 10)  # Ensure at least 5 rows for better covariance estimation\n",
    "cols = random.randint(5, 10)\n",
    "random_matrix = np.random.randn(rows, cols)"
   ]
  },
  {
   "cell_type": "code",
   "execution_count": 23,
   "metadata": {},
   "outputs": [
    {
     "name": "stdout",
     "output_type": "stream",
     "text": [
      "Shrinkage Covariance Matrix:\n",
      "[[ 1.27571457  0.21520941 -0.40033311 -0.33302814 -0.34875612 -0.19448405\n",
      "   0.26785142]\n",
      " [ 0.21520941  0.69825881  0.14627438  0.08397125 -0.29439553 -0.35672346\n",
      "  -0.21215117]\n",
      " [-0.40033311  0.14627438  0.57924264  0.08644396  0.45837959 -0.232778\n",
      "  -0.11431807]\n",
      " [-0.33302814  0.08397125  0.08644396  0.60027183 -0.10314217 -0.15393458\n",
      "   0.01220478]\n",
      " [-0.34875612 -0.29439553  0.45837959 -0.10314217  1.57341941 -0.57572649\n",
      "  -0.19640647]\n",
      " [-0.19448405 -0.35672346 -0.232778   -0.15393458 -0.57572649  1.46634867\n",
      "   0.24705126]\n",
      " [ 0.26785142 -0.21215117 -0.11431807  0.01220478 -0.19640647  0.24705126\n",
      "   0.96114366]]\n"
     ]
    }
   ],
   "source": [
    "# Compute the shrinkage covariance matrix\n",
    "shrinkage_cov_matrix = shrinkage_covariance_matrix(random_matrix)\n",
    "print(\"Shrinkage Covariance Matrix:\")\n",
    "print(shrinkage_cov_matrix)\n"
   ]
  },
  {
   "cell_type": "code",
   "execution_count": 24,
   "metadata": {},
   "outputs": [
    {
     "name": "stdout",
     "output_type": "stream",
     "text": [
      "Ledoit-Wolf Shrinkage Covariance Matrix:\n",
      "[[ 1.41138041  0.23396295 -0.43521849 -0.3620485  -0.37914703 -0.21143156\n",
      "   0.29119223]\n",
      " [ 0.23396295  0.78360465  0.15902086  0.09128858 -0.32004942 -0.38780865\n",
      "  -0.23063821]\n",
      " [-0.43521849  0.15902086  0.6542173   0.09397676  0.49832319 -0.25306248\n",
      "  -0.12427984]\n",
      " [-0.3620485   0.09128858  0.09397676  0.67707899 -0.11213007 -0.16734857\n",
      "   0.01326832]\n",
      " [-0.37914703 -0.32004942  0.49832319 -0.11213007  1.7350275  -0.6258958\n",
      "  -0.2135215 ]\n",
      " [-0.21143156 -0.38780865 -0.25306248 -0.16734857 -0.6258958   1.61862652\n",
      "   0.26857953]\n",
      " [ 0.29119223 -0.23063821 -0.12427984  0.01326832 -0.2135215   0.26857953\n",
      "   1.06939751]]\n"
     ]
    }
   ],
   "source": [
    "# Compute the Ledoit-Wolf shrinkage covariance matrix\n",
    "ledoit_wolf_cov_matrix = ledoit_wolf_shrinkage(random_matrix)\n",
    "print(\"Ledoit-Wolf Shrinkage Covariance Matrix:\")\n",
    "print(ledoit_wolf_cov_matrix)\n"
   ]
  },
  {
   "cell_type": "code",
   "execution_count": 25,
   "metadata": {},
   "outputs": [
    {
     "name": "stdout",
     "output_type": "stream",
     "text": [
      "Oracle Approximating Shrinkage Covariance Matrix:\n",
      "[[ 1.23309551  0.17905032 -0.33306988 -0.27707336 -0.29015876 -0.1618072\n",
      "   0.22284752]\n",
      " [ 0.17905032  0.7526628   0.12169763  0.06986256 -0.24493174 -0.29678744\n",
      "  -0.17650592]\n",
      " [-0.33306988  0.12169763  0.65364351  0.0719198   0.3813635  -0.19366707\n",
      "  -0.09511055]\n",
      " [-0.27707336  0.06986256  0.0719198   0.67113941 -0.08581242 -0.12807077\n",
      "   0.01015416]\n",
      " [-0.29015876 -0.24493174  0.3813635  -0.08581242  1.48078053 -0.47899398\n",
      "  -0.16340661]\n",
      " [-0.1618072  -0.29678744 -0.19366707 -0.12807077 -0.47899398  1.39169961\n",
      "   0.20554217]\n",
      " [ 0.22284752 -0.17650592 -0.09511055  0.01015416 -0.16340661  0.20554217\n",
      "   0.97137822]]\n"
     ]
    }
   ],
   "source": [
    "# Compute the OAS covariance matrix\n",
    "oas_cov_matrix = oas_covariance_matrix(random_matrix)\n",
    "print(\"Oracle Approximating Shrinkage Covariance Matrix:\")\n",
    "print(oas_cov_matrix)"
   ]
  },
  {
   "cell_type": "markdown",
   "metadata": {},
   "source": [
    "# Testing"
   ]
  },
  {
   "cell_type": "code",
   "execution_count": 27,
   "metadata": {},
   "outputs": [],
   "source": [
    "true_cov = np.cov(random_matrix, rowvar=False)"
   ]
  },
  {
   "cell_type": "code",
   "execution_count": 28,
   "metadata": {},
   "outputs": [],
   "source": [
    "# Function to calculate MSE\n",
    "def mean_squared_error(true_cov, estimated_cov):\n",
    "    return np.mean((true_cov - shrinkage_cov_matrix) ** 2)"
   ]
  },
  {
   "cell_type": "code",
   "execution_count": 29,
   "metadata": {},
   "outputs": [],
   "source": [
    "basic_mse = mean_squared_error(true_cov, shrinkage_cov_matrix)"
   ]
  },
  {
   "cell_type": "code",
   "execution_count": 30,
   "metadata": {},
   "outputs": [],
   "source": [
    "# Function to calculate MSE\n",
    "def mean_squared_error(true_cov, estimated_cov):\n",
    "    return np.mean((true_cov - ledoit_wolf_cov_matrix) ** 2)"
   ]
  },
  {
   "cell_type": "code",
   "execution_count": 31,
   "metadata": {},
   "outputs": [],
   "source": [
    "ledoit_wolf_mse = mean_squared_error(true_cov, ledoit_wolf_cov_matrix)"
   ]
  },
  {
   "cell_type": "code",
   "execution_count": 32,
   "metadata": {},
   "outputs": [],
   "source": [
    "# Function to calculate MSE\n",
    "def mean_squared_error(true_cov, estimated_cov):\n",
    "    return np.mean((true_cov - oas_cov_matrix) ** 2)"
   ]
  },
  {
   "cell_type": "code",
   "execution_count": 33,
   "metadata": {},
   "outputs": [],
   "source": [
    "oas_mse = mean_squared_error(true_cov, oas_cov_matrix)"
   ]
  },
  {
   "cell_type": "code",
   "execution_count": 34,
   "metadata": {},
   "outputs": [],
   "source": [
    "# Compute and time each method\n",
    "start_time = time.time()\n",
    "basic_cov_matrix = shrinkage_covariance_matrix(random_matrix)\n",
    "basic_time = time.time() - start_time\n",
    "\n",
    "start_time = time.time()\n",
    "lw_cov_matrix = ledoit_wolf_shrinkage(random_matrix)\n",
    "lw_time = time.time() - start_time\n",
    "\n",
    "start_time = time.time()\n",
    "oas_cov_matrix = oas_covariance_matrix(random_matrix)\n",
    "oas_time = time.time() - start_time"
   ]
  },
  {
   "cell_type": "code",
   "execution_count": 35,
   "metadata": {},
   "outputs": [
    {
     "name": "stdout",
     "output_type": "stream",
     "text": [
      "Basic Shrinkage Time: 0.0003 seconds\n",
      "Ledoit-Wolf Time: 0.0002 seconds\n",
      "OAS Time: 0.0001 seconds\n",
      "Basic Shrinkage MSE: 0.0058\n",
      "Ledoit-Wolf MSE: 0.0014\n",
      "OAS MSE: 0.0144\n"
     ]
    }
   ],
   "source": [
    "# Print results\n",
    "print(\"Basic Shrinkage Time: {:.4f} seconds\".format(basic_time))\n",
    "print(\"Ledoit-Wolf Time: {:.4f} seconds\".format(lw_time))\n",
    "print(\"OAS Time: {:.4f} seconds\".format(oas_time))\n",
    "\n",
    "# Print MSE \n",
    "print(\"Basic Shrinkage MSE: {:.4f}\".format(basic_mse))\n",
    "print(\"Ledoit-Wolf MSE: {:.4f}\".format(ledoit_wolf_mse))\n",
    "print(\"OAS MSE: {:.4f}\".format(oas_mse))\n"
   ]
  }
 ],
 "metadata": {
  "kernelspec": {
   "display_name": "Python 3",
   "language": "python",
   "name": "python3"
  },
  "language_info": {
   "codemirror_mode": {
    "name": "ipython",
    "version": 3
   },
   "file_extension": ".py",
   "mimetype": "text/x-python",
   "name": "python",
   "nbconvert_exporter": "python",
   "pygments_lexer": "ipython3",
   "version": "3.11.5"
  }
 },
 "nbformat": 4,
 "nbformat_minor": 2
}
